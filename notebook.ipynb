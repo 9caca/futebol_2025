{
 "cells": [
  {
   "cell_type": "code",
   "execution_count": 1,
   "metadata": {},
   "outputs": [],
   "source": [
    "import pandas as pd\n",
    "import csv"
   ]
  },
  {
   "cell_type": "code",
   "execution_count": 8,
   "metadata": {},
   "outputs": [
    {
     "name": "stdout",
     "output_type": "stream",
     "text": [
      "<class 'pandas.core.frame.DataFrame'>\n"
     ]
    },
    {
     "data": {
      "text/html": [
       "<div>\n",
       "<style scoped>\n",
       "    .dataframe tbody tr th:only-of-type {\n",
       "        vertical-align: middle;\n",
       "    }\n",
       "\n",
       "    .dataframe tbody tr th {\n",
       "        vertical-align: top;\n",
       "    }\n",
       "\n",
       "    .dataframe thead th {\n",
       "        text-align: right;\n",
       "    }\n",
       "</style>\n",
       "<table border=\"1\" class=\"dataframe\">\n",
       "  <thead>\n",
       "    <tr style=\"text-align: right;\">\n",
       "      <th></th>\n",
       "      <th>date</th>\n",
       "      <th>club</th>\n",
       "      <th>country</th>\n",
       "      <th>elo</th>\n",
       "    </tr>\n",
       "  </thead>\n",
       "  <tbody>\n",
       "    <tr>\n",
       "      <th>0</th>\n",
       "      <td>2000-07-01</td>\n",
       "      <td>Aachen</td>\n",
       "      <td>GER</td>\n",
       "      <td>1453.60</td>\n",
       "    </tr>\n",
       "    <tr>\n",
       "      <th>1</th>\n",
       "      <td>2000-07-01</td>\n",
       "      <td>Aalborg</td>\n",
       "      <td>DEN</td>\n",
       "      <td>1482.61</td>\n",
       "    </tr>\n",
       "    <tr>\n",
       "      <th>2</th>\n",
       "      <td>2000-07-01</td>\n",
       "      <td>Aalst</td>\n",
       "      <td>BEL</td>\n",
       "      <td>1337.53</td>\n",
       "    </tr>\n",
       "    <tr>\n",
       "      <th>3</th>\n",
       "      <td>2000-07-01</td>\n",
       "      <td>Aarhus</td>\n",
       "      <td>DEN</td>\n",
       "      <td>1381.46</td>\n",
       "    </tr>\n",
       "    <tr>\n",
       "      <th>4</th>\n",
       "      <td>2000-07-01</td>\n",
       "      <td>Aberdeen</td>\n",
       "      <td>SCO</td>\n",
       "      <td>1360.43</td>\n",
       "    </tr>\n",
       "    <tr>\n",
       "      <th>...</th>\n",
       "      <td>...</td>\n",
       "      <td>...</td>\n",
       "      <td>...</td>\n",
       "      <td>...</td>\n",
       "    </tr>\n",
       "    <tr>\n",
       "      <th>240551</th>\n",
       "      <td>2024-12-15</td>\n",
       "      <td>Wolfsburg</td>\n",
       "      <td>GER</td>\n",
       "      <td>1670.33</td>\n",
       "    </tr>\n",
       "    <tr>\n",
       "      <th>240552</th>\n",
       "      <td>2024-12-15</td>\n",
       "      <td>Wolves</td>\n",
       "      <td>ENG</td>\n",
       "      <td>1652.57</td>\n",
       "    </tr>\n",
       "    <tr>\n",
       "      <th>240553</th>\n",
       "      <td>2024-12-15</td>\n",
       "      <td>Zaragoza</td>\n",
       "      <td>ESP</td>\n",
       "      <td>1488.54</td>\n",
       "    </tr>\n",
       "    <tr>\n",
       "      <th>240554</th>\n",
       "      <td>2024-12-15</td>\n",
       "      <td>Zenit</td>\n",
       "      <td>RUS</td>\n",
       "      <td>1634.92</td>\n",
       "    </tr>\n",
       "    <tr>\n",
       "      <th>240555</th>\n",
       "      <td>2024-12-15</td>\n",
       "      <td>Zwolle</td>\n",
       "      <td>NED</td>\n",
       "      <td>1404.68</td>\n",
       "    </tr>\n",
       "  </tbody>\n",
       "</table>\n",
       "<p>240556 rows × 4 columns</p>\n",
       "</div>"
      ],
      "text/plain": [
       "              date       club country      elo\n",
       "0       2000-07-01     Aachen     GER  1453.60\n",
       "1       2000-07-01    Aalborg     DEN  1482.61\n",
       "2       2000-07-01      Aalst     BEL  1337.53\n",
       "3       2000-07-01     Aarhus     DEN  1381.46\n",
       "4       2000-07-01   Aberdeen     SCO  1360.43\n",
       "...            ...        ...     ...      ...\n",
       "240551  2024-12-15  Wolfsburg     GER  1670.33\n",
       "240552  2024-12-15     Wolves     ENG  1652.57\n",
       "240553  2024-12-15   Zaragoza     ESP  1488.54\n",
       "240554  2024-12-15      Zenit     RUS  1634.92\n",
       "240555  2024-12-15     Zwolle     NED  1404.68\n",
       "\n",
       "[240556 rows x 4 columns]"
      ]
     },
     "execution_count": 8,
     "metadata": {},
     "output_type": "execute_result"
    }
   ],
   "source": [
    "#Ler o arquivo .csv\n",
    "df = pd.read_csv(\"EloRatings.csv\")\n",
    "print(type(df))\n",
    "df"
   ]
  },
  {
   "cell_type": "code",
   "execution_count": 12,
   "metadata": {},
   "outputs": [
    {
     "name": "stdout",
     "output_type": "stream",
     "text": [
      "2024-12-15 00:00:00\n"
     ]
    }
   ],
   "source": [
    "#Transformando a coluna `Date` de str pra data.\n",
    "df[\"date\"] = pd.to_datetime(df[\"date\"])\n",
    "data_recente = df[\"date\"].max()\n",
    "print(data_recente)"
   ]
  },
  {
   "cell_type": "code",
   "execution_count": 14,
   "metadata": {},
   "outputs": [
    {
     "name": "stdout",
     "output_type": "stream",
     "text": [
      "             date           club country      elo\n",
      "240149 2024-12-15        Aalborg     DEN  1339.41\n",
      "240150 2024-12-15         Aarhus     DEN  1513.14\n",
      "240151 2024-12-15       Aberdeen     SCO  1419.98\n",
      "240152 2024-12-15  Ad. Demirspor     TUR  1299.50\n",
      "240153 2024-12-15            AEK     GRE  1568.22\n",
      "...           ...            ...     ...      ...\n",
      "240551 2024-12-15      Wolfsburg     GER  1670.33\n",
      "240552 2024-12-15         Wolves     ENG  1652.57\n",
      "240553 2024-12-15       Zaragoza     ESP  1488.54\n",
      "240554 2024-12-15          Zenit     RUS  1634.92\n",
      "240555 2024-12-15         Zwolle     NED  1404.68\n",
      "\n",
      "[407 rows x 4 columns]\n"
     ]
    }
   ],
   "source": [
    "#Filtrando os ratings da data mais recente.\n",
    "rating_atual = df[df[\"date\"] == data_recente]\n",
    "print(rating_atual)"
   ]
  },
  {
   "cell_type": "code",
   "execution_count": 28,
   "metadata": {},
   "outputs": [
    {
     "name": "stdout",
     "output_type": "stream",
     "text": [
      "['Liverpool', 'Inter', 'Arsenal', 'Man City', 'Real Madrid']\n"
     ]
    }
   ],
   "source": [
    "#Encontrando o Top 5 atual.\n",
    "top5_times = rating_atual.nlargest(5, \"elo\")[\"club\"].tolist()\n",
    "print(top5_times)"
   ]
  },
  {
   "cell_type": "code",
   "execution_count": 29,
   "metadata": {},
   "outputs": [
    {
     "name": "stdout",
     "output_type": "stream",
     "text": [
      "             date         club country      elo\n",
      "26     2000-07-01      Arsenal     ENG  1871.66\n",
      "167    2000-07-01        Inter     ITA  1794.38\n",
      "201    2000-07-01    Liverpool     ENG  1770.10\n",
      "218    2000-07-01     Man City     ENG  1579.94\n",
      "292    2000-07-01  Real Madrid     ESP  1884.02\n",
      "...           ...          ...     ...      ...\n",
      "240172 2024-12-15      Arsenal     ENG  1975.82\n",
      "240327 2024-12-15        Inter     ITA  1977.06\n",
      "240368 2024-12-15    Liverpool     ENG  1991.39\n",
      "240380 2024-12-15     Man City     ENG  1966.65\n",
      "240454 2024-12-15  Real Madrid     ESP  1947.47\n",
      "\n",
      "[2940 rows x 4 columns]\n"
     ]
    }
   ],
   "source": [
    "#Filtrar os dados de todos os tempos para o Top 5\n",
    "top5_data = df[df[\"club\"].isin(top5_times)]\n",
    "print(top5_data)"
   ]
  },
  {
   "cell_type": "code",
   "execution_count": null,
   "metadata": {},
   "outputs": [],
   "source": []
  }
 ],
 "metadata": {
  "kernelspec": {
   "display_name": "Python 3",
   "language": "python",
   "name": "python3"
  },
  "language_info": {
   "codemirror_mode": {
    "name": "ipython",
    "version": 3
   },
   "file_extension": ".py",
   "mimetype": "text/x-python",
   "name": "python",
   "nbconvert_exporter": "python",
   "pygments_lexer": "ipython3",
   "version": "3.13.1"
  }
 },
 "nbformat": 4,
 "nbformat_minor": 2
}
